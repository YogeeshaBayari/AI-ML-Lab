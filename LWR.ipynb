{
  "cells": [
    {
      "cell_type": "markdown",
      "metadata": {
        "id": "view-in-github",
        "colab_type": "text"
      },
      "source": [
        "<a href=\"https://colab.research.google.com/github/YogeeshaBayari/AI-ML-Lab/blob/main/LWR.ipynb\" target=\"_parent\"><img src=\"https://colab.research.google.com/assets/colab-badge.svg\" alt=\"Open In Colab\"/></a>"
      ]
    },
    {
      "cell_type": "code",
      "execution_count": null,
      "metadata": {
        "collapsed": true,
        "id": "yDPp1t8aaykN"
      },
      "outputs": [],
      "source": [
        "import matplotlib.pyplot as plt\n",
        "import pandas as pd\n",
        "import numpy as np"
      ]
    },
    {
      "cell_type": "code",
      "execution_count": null,
      "metadata": {
        "collapsed": true,
        "id": "P6xUjJsWaykQ"
      },
      "outputs": [],
      "source": [
        "def kernel(point, xmat, k):\n",
        "    m,n = np.shape(xmat)\n",
        "    weights = np.mat(np.eye((m)))\n",
        "    for j in range(m):\n",
        "        diff = point - X[j]\n",
        "        weights[j,j] = np.exp(diff*diff.T/(-2.0*k**2))\n",
        "    return weights"
      ]
    },
    {
      "cell_type": "code",
      "execution_count": null,
      "metadata": {
        "collapsed": true,
        "id": "02SSTgXxaykR"
      },
      "outputs": [],
      "source": [
        "def localWeight(point, xmat, ymat, k):\n",
        "    wei = kernel(point,xmat,k)\n",
        "    W = (X.T*(wei*X)).I*(X.T*(wei*ymat.T))\n",
        "    return W"
      ]
    },
    {
      "cell_type": "code",
      "execution_count": null,
      "metadata": {
        "collapsed": true,
        "id": "mdWto41raykS"
      },
      "outputs": [],
      "source": [
        "def localWeightRegression(xmat, ymat, k):\n",
        "    m,n = np.shape(xmat)\n",
        "    y_pred = np.zeros(m)\n",
        "    for i in range(m):\n",
        "        y_pred[i] = xmat[i]*localWeight(xmat[i],xmat,ymat,k)\n",
        "    return ypred"
      ]
    },
    {
      "cell_type": "code",
      "execution_count": null,
      "metadata": {
        "collapsed": true,
        "id": "jTt6eVkmaykS"
      },
      "outputs": [],
      "source": [
        "def graphPlot(X,y_pred):\n",
        "    sortindex = X[:,1].argsort(0)\n",
        "    xsort = X[sortindex][:,0]\n",
        "    fig = plt.figure()\n",
        "    ax = fig.add_subplot(1,1,1)\n",
        "    ax.scatter(bill,tip, color='green')\n",
        "    ax.plot(xsort[:,1],y_pred[sortindex], color = 'red', linewidth=5)\n",
        "    plt.xlabel('Total bill')\n",
        "    plt.ylabel('Tip')\n",
        "    plt.show()"
      ]
    },
    {
      "cell_type": "code",
      "execution_count": null,
      "metadata": {
        "id": "kNlQuSphaykT",
        "outputId": "dcf2c2b0-6f01-4976-c086-6ba68dd5cc26"
      },
      "outputs": [
        {
          "data": {
            "image/png": "[encoded data removed]",
            "text/plain": [
              "<matplotlib.figure.Figure at 0x7f39e70>"
            ]
          },
          "metadata": {},
          "output_type": "display_data"
        }
      ],
      "source": [
        "# load data points\n",
        "data = pd.read_csv('bill.csv')\n",
        "bill = np.array(data.total_bill)\n",
        "tip = np.array(data.tip)\n",
        "mbill = np.mat(bill)\n",
        "mtip = np.mat(tip)\n",
        "m= np.shape(mbill)[1]\n",
        "one = np.mat(np.ones(m))\n",
        "X = np.hstack((one.T,mbill.T))\n",
        "y_pred = localWeightRegression(X,mtip,0.5)\n",
        "graphPlot(X,y_pred)"
      ]
    },
    {
      "cell_type": "code",
      "execution_count": null,
      "metadata": {
        "collapsed": true,
        "id": "5xAQlq5faykU"
      },
      "outputs": [],
      "source": []
    }
  ],
  "metadata": {
    "kernelspec": {
      "display_name": "Python 3",
      "language": "python",
      "name": "python3"
    },
    "language_info": {
      "codemirror_mode": {
        "name": "ipython",
        "version": 3
      },
      "file_extension": ".py",
      "mimetype": "text/x-python",
      "name": "python",
      "nbconvert_exporter": "python",
      "pygments_lexer": "ipython3",
      "version": "3.6.3"
    },
    "colab": {
      "provenance": [],
      "include_colab_link": true
    }
  },
  "nbformat": 4,
  "nbformat_minor": 0
}