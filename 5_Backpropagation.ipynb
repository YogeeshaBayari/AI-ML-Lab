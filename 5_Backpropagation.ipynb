{
  "cells": [
    {
      "cell_type": "markdown",
      "metadata": {
        "id": "view-in-github",
        "colab_type": "text"
      },
      "source": [
        "<a href=\"https://colab.research.google.com/github/YogeeshaBayari/AI-ML-Lab/blob/main/5_Backpropagation.ipynb\" target=\"_parent\"><img src=\"https://colab.research.google.com/assets/colab-badge.svg\" alt=\"Open In Colab\"/></a>"
      ]
    },
    {
      "cell_type": "markdown",
      "metadata": {
        "id": "lDglRlMz_LSl"
      },
      "source": [
        "# Build an Artificial Neural Network by implementing the Back propagation algorithm and test the same using appropriate data sets."
      ]
    },
    {
      "cell_type": "code",
      "execution_count": null,
      "metadata": {
        "collapsed": true,
        "id": "mk4SXPJH_LSv"
      },
      "outputs": [],
      "source": [
        "import numpy as np\n",
        "X = np.array(([2, 9], [1, 5], [3, 6]), dtype=float)\n",
        "y = np.array(([92], [86], [89]), dtype=float)\n",
        "X = X/np.amax(X,axis=0)\n",
        "y = y/100"
      ]
    },
    {
      "cell_type": "code",
      "execution_count": null,
      "metadata": {
        "collapsed": true,
        "id": "LlkYbmp4_LSz"
      },
      "outputs": [],
      "source": [
        "def sigmoid (x):\n",
        "    return 1/(1 + np.exp(-x))\n",
        "def derivatives_sigmoid(x):\n",
        "    return x * (1 - x)"
      ]
    },
    {
      "cell_type": "code",
      "execution_count": null,
      "metadata": {
        "collapsed": true,
        "id": "QZEXHMKc_LS0"
      },
      "outputs": [],
      "source": [
        "epoch=1000\n",
        "lr=0.1\n",
        "inputlayer_neurons = 2\n",
        "hiddenlayer_neurons = 3\n",
        "output_neurons = 1 \n",
        "wh=np.random.uniform(size=(inputlayer_neurons,hiddenlayer_neurons))\n",
        "bh=np.random.uniform(size=(1,hiddenlayer_neurons))\n",
        "wout=np.random.uniform(size=(hiddenlayer_neurons,output_neurons))\n",
        "bout=np.random.uniform(size=(1,output_neurons))"
      ]
    },
    {
      "cell_type": "code",
      "execution_count": null,
      "metadata": {
        "id": "JstZwk4L_LS2",
        "outputId": "5420fc01-e592-48c0-9c63-2c47b6dca350"
      },
      "outputs": [
        {
          "name": "stdout",
          "output_type": "stream",
          "text": [
            "Input: \n",
            "[[ 0.66666667  1.        ]\n",
            " [ 0.33333333  0.55555556]\n",
            " [ 1.          0.66666667]]\n",
            "Actual Output: \n",
            "[[ 0.92]\n",
            " [ 0.86]\n",
            " [ 0.89]]\n",
            "Predicted Output: \n",
            " [[ 0.89626316]\n",
            " [ 0.87318862]\n",
            " [ 0.89928505]]\n"
          ]
        }
      ],
      "source": [
        "for i in range(epoch):\n",
        "    h_ip=np.dot(X,wh)+bh\n",
        "    h_act = sigmoid(h_ip)\n",
        "    o_ip=np.dot(h_act,wout)\n",
        "    output = sigmoid(o_ip)\n",
        "    EO = y-output\n",
        "    outgrad = derivatives_sigmoid(output)\n",
        "    d_output = EO* outgrad\n",
        "    EH = d_output.dot(wout.T)\n",
        "    hiddengrad = derivatives_sigmoid(h_act)\n",
        "    d_hidden = EH * hiddengrad\n",
        "    wout += h_act.T.dot(d_output) *lr\n",
        "    wh += X.T.dot(d_hidden) *lr\n",
        "print(\"Input: \\n\" + str(X))\n",
        "print(\"Actual Output: \\n\" + str(y))\n",
        "print(\"Predicted Output: \\n\" ,output)"
      ]
    },
    {
      "cell_type": "code",
      "execution_count": null,
      "metadata": {
        "collapsed": true,
        "id": "Y1wnvzqg_LS5"
      },
      "outputs": [],
      "source": []
    }
  ],
  "metadata": {
    "kernelspec": {
      "display_name": "Python 3",
      "language": "python",
      "name": "python3"
    },
    "language_info": {
      "codemirror_mode": {
        "name": "ipython",
        "version": 3
      },
      "file_extension": ".py",
      "mimetype": "text/x-python",
      "name": "python",
      "nbconvert_exporter": "python",
      "pygments_lexer": "ipython3",
      "version": "3.8.5"
    },
    "colab": {
      "provenance": [],
      "include_colab_link": true
    }
  },
  "nbformat": 4,
  "nbformat_minor": 0
}