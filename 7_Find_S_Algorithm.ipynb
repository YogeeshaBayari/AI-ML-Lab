{
  "cells": [
    {
      "cell_type": "markdown",
      "metadata": {
        "id": "view-in-github",
        "colab_type": "text"
      },
      "source": [
        "<a href=\"https://colab.research.google.com/github/YogeeshaBayari/AI-ML-Lab/blob/main/7_Find_S_Algorithm.ipynb\" target=\"_parent\"><img src=\"https://colab.research.google.com/assets/colab-badge.svg\" alt=\"Open In Colab\"/></a>"
      ]
    },
    {
      "cell_type": "markdown",
      "metadata": {
        "id": "meVwf6OoYRF_"
      },
      "source": [
        "# Implement and demonstratethe FIND-S algorithm for finding the most specific hypothesis based on a given set of training data samples. Read the training data from a .CSV file. "
      ]
    },
    {
      "cell_type": "code",
      "execution_count": null,
      "metadata": {
        "id": "NtDTEypBYRGB"
      },
      "outputs": [],
      "source": [
        "import random\n",
        "import csv"
      ]
    },
    {
      "cell_type": "code",
      "execution_count": null,
      "metadata": {
        "id": "NDcWoZHkYRGD"
      },
      "outputs": [],
      "source": [
        "# Sky,Airtemp,Humidity,Wind,Water,Forecast\n",
        "attributes = [['Sunny','Rainy'],\n",
        "             ['Warm','Cold'],\n",
        "             ['Normal','High'],\n",
        "             ['Strong','Weak'],\n",
        "             ['Warm','Cool'],\n",
        "             ['Same','Change']]"
      ]
    },
    {
      "cell_type": "code",
      "execution_count": null,
      "metadata": {
        "id": "m84PGeRQYRGE"
      },
      "outputs": [],
      "source": [
        "num_attributes = len(attributes)\n",
        "a=[]"
      ]
    },
    {
      "cell_type": "code",
      "execution_count": null,
      "metadata": {
        "id": "UBtF9RDdYRGG",
        "outputId": "504e4f77-0f37-4230-f547-f1a8c3b14e42"
      },
      "outputs": [
        {
          "name": "stdout",
          "output_type": "stream",
          "text": [
            "\n",
            " The given Training Data Set \n",
            "\n",
            "['Sunny', 'Warm', 'Normal', 'Strong', 'Warm', 'Same', 'Yes']\n",
            "['Sunny', 'Warm', 'High', 'Strong', 'Warm', 'Same', 'Yes']\n",
            "['Rainy', 'Cold', 'High', 'Strong', 'Warm', 'Change', 'No']\n",
            "['Sunny', 'Warm', 'High', 'Strong', 'Cool', 'Change', 'Yes']\n"
          ]
        }
      ],
      "source": [
        "print(\"\\n The given Training Data Set \\n\")\n",
        "with open('enjoysport.csv','r') as csvFile:\n",
        "    reader = csv.reader(csvFile)\n",
        "    for row in reader: \n",
        "        a.append(row)\n",
        "        print(row)"
      ]
    },
    {
      "cell_type": "code",
      "execution_count": null,
      "metadata": {
        "id": "7NpvgtZOYRGH"
      },
      "outputs": [],
      "source": [
        "hypothesis = ['0']*num_attributes"
      ]
    },
    {
      "cell_type": "code",
      "execution_count": null,
      "metadata": {
        "id": "3aTkfVAVYRGH",
        "outputId": "2772f7c1-a668-4aed-af4f-8e50d60a1045"
      },
      "outputs": [
        {
          "name": "stdout",
          "output_type": "stream",
          "text": [
            "\n",
            " The most general hypothesis: ['?','?','?','?','?','?']\n",
            "\n",
            "\n",
            " The most specific hypothesis: ['0','0','0','0','0','0']\n",
            "\n",
            "\n",
            " The Maximally Specific Hypothesis for a given Training Examples :\n",
            "\n",
            "['Sunny', 'Warm', '?', 'Strong', '?', '?']\n"
          ]
        }
      ],
      "source": [
        "# comparing with remaining training examples of Given Data et\n",
        "print(\"\\n The most general hypothesis: ['?','?','?','?','?','?']\\n\")\n",
        "print(\"\\n The most specific hypothesis: ['0','0','0','0','0','0']\\n\")\n",
        "for j in range(0,num_attributes):\n",
        "    hypothesis[j]= a[0][j]\n",
        "for i in range(0,len(a)):\n",
        "    if a[i][num_attributes]=='Yes':\n",
        "        for j in range(0,num_attributes):\n",
        "            if a[i][j]!=hypothesis[j]:  # if hypothesis is not same as that of TE\n",
        "                hypothesis[j]='?'\n",
        "            else:\n",
        "                hypothesis[j]= a[i][j]\n",
        "\n",
        "print(\"\\n The Maximally Specific Hypothesis for a given Training Examples :\\n\")\n",
        "print(hypothesis)"
      ]
    },
    {
      "cell_type": "code",
      "execution_count": null,
      "metadata": {
        "id": "POfEmSarrlcR"
      },
      "outputs": [],
      "source": []
    }
  ],
  "metadata": {
    "colab": {
      "provenance": [],
      "include_colab_link": true
    },
    "kernelspec": {
      "display_name": "Python 3",
      "language": "python",
      "name": "python3"
    },
    "language_info": {
      "codemirror_mode": {
        "name": "ipython",
        "version": 3
      },
      "file_extension": ".py",
      "mimetype": "text/x-python",
      "name": "python",
      "nbconvert_exporter": "python",
      "pygments_lexer": "ipython3",
      "version": "3.7.6"
    }
  },
  "nbformat": 4,
  "nbformat_minor": 0
}