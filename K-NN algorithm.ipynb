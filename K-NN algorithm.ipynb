{
 "cells": [
  {
   "cell_type": "markdown",
   "metadata": {},
   "source": [
    "# Write a program to implement k-Nearest Neighbour algorithm to classify the iris data set. Print both correct and wrong predictions. Java/Python ML library classes can be used for this problem"
   ]
  },
  {
   "cell_type": "code",
   "execution_count": 1,
   "metadata": {
    "collapsed": true
   },
   "outputs": [],
   "source": [
    "from sklearn.model_selection import train_test_split\n",
    "from sklearn.neighbors import KNeighborsClassifier\n",
    "from sklearn import datasets"
   ]
  },
  {
   "cell_type": "code",
   "execution_count": 2,
   "metadata": {
    "collapsed": true
   },
   "outputs": [],
   "source": [
    "iris = datasets.load_iris()"
   ]
  },
  {
   "cell_type": "code",
   "execution_count": 3,
   "metadata": {
    "collapsed": true
   },
   "outputs": [],
   "source": [
    "x_train,x_test,y_train,y_test=train_test_split(iris.data,iris.target, test_size=0.1)"
   ]
  },
  {
   "cell_type": "code",
   "execution_count": 4,
   "metadata": {},
   "outputs": [
    {
     "name": "stdout",
     "output_type": "stream",
     "text": [
      "size of training data and its label (135, 4) (135,)\n",
      "size of testing data and its label (15, 4) (15,)\n"
     ]
    }
   ],
   "source": [
    "print(\"size of training data and its label\",x_train.shape, y_train.shape)\n",
    "print(\"size of testing data and its label\",x_test.shape, y_test.shape)"
   ]
  },
  {
   "cell_type": "code",
   "execution_count": 5,
   "metadata": {},
   "outputs": [
    {
     "name": "stdout",
     "output_type": "stream",
     "text": [
      "label 0 - setosa\n",
      "label 1 - versicolor\n",
      "label 2 - virginica\n"
     ]
    }
   ],
   "source": [
    "for i in range(len(iris.target_names)):\n",
    "    print(\"label\",i, \"-\",str(iris.target_names[i]))"
   ]
  },
  {
   "cell_type": "code",
   "execution_count": 6,
   "metadata": {
    "collapsed": true
   },
   "outputs": [],
   "source": [
    "classifier=KNeighborsClassifier(n_neighbors=1)\n",
    "classifier.fit(x_train,y_train)\n",
    "y_pred=classifier.predict(x_test)"
   ]
  },
  {
   "cell_type": "code",
   "execution_count": 7,
   "metadata": {},
   "outputs": [
    {
     "name": "stdout",
     "output_type": "stream",
     "text": [
      "Results of classification using K-nn with k=1\n",
      "Sample: [ 5.   2.3  3.3  1. ] Actual-label: 1 Predicted-label: 1\n",
      "Sample: [ 5.2  3.4  1.4  0.2] Actual-label: 0 Predicted-label: 0\n",
      "Sample: [ 5.7  4.4  1.5  0.4] Actual-label: 0 Predicted-label: 0\n",
      "Sample: [ 6.3  2.5  5.   1.9] Actual-label: 2 Predicted-label: 2\n",
      "Sample: [ 6.1  3.   4.9  1.8] Actual-label: 2 Predicted-label: 2\n",
      "Sample: [ 6.3  3.3  6.   2.5] Actual-label: 2 Predicted-label: 2\n",
      "Sample: [ 5.1  3.4  1.5  0.2] Actual-label: 0 Predicted-label: 0\n",
      "Sample: [ 5.9  3.   5.1  1.8] Actual-label: 2 Predicted-label: 2\n",
      "Sample: [ 6.4  3.1  5.5  1.8] Actual-label: 2 Predicted-label: 2\n",
      "Sample: [ 6.2  3.4  5.4  2.3] Actual-label: 2 Predicted-label: 2\n",
      "Sample: [ 5.7  3.   4.2  1.2] Actual-label: 1 Predicted-label: 1\n",
      "Sample: [ 5.1  3.8  1.9  0.4] Actual-label: 0 Predicted-label: 0\n",
      "Sample: [ 4.9  3.1  1.5  0.1] Actual-label: 0 Predicted-label: 0\n",
      "Sample: [ 5.8  4.   1.2  0.2] Actual-label: 0 Predicted-label: 0\n",
      "Sample: [ 6.1  2.9  4.7  1.4] Actual-label: 1 Predicted-label: 1\n",
      "classification accuracy: 1.0\n"
     ]
    }
   ],
   "source": [
    "print(\"Results of classification using K-nn with k=1\")\n",
    "for r in range(0,len(x_test)):\n",
    "    print(\"Sample:\",str(x_test[r]), \"Actual-label:\",str(y_test[r]), \"Predicted-label:\",str(y_pred[r]))\n",
    "print(\"classification accuracy:\", classifier.score(x_test,y_test))"
   ]
  },
  {
   "cell_type": "code",
   "execution_count": null,
   "metadata": {
    "collapsed": true
   },
   "outputs": [],
   "source": []
  }
 ],
 "metadata": {
  "kernelspec": {
   "display_name": "Python 3",
   "language": "python",
   "name": "python3"
  },
  "language_info": {
   "codemirror_mode": {
    "name": "ipython",
    "version": 3
   },
   "file_extension": ".py",
   "mimetype": "text/x-python",
   "name": "python",
   "nbconvert_exporter": "python",
   "pygments_lexer": "ipython3",
   "version": "3.6.3"
  }
 },
 "nbformat": 4,
 "nbformat_minor": 2
}
